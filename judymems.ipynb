{
 "cells": [
  {
   "cell_type": "code",
   "execution_count": 1,
   "id": "97646cf1-55da-4250-a723-8c922fe1a17e",
   "metadata": {},
   "outputs": [],
   "source": [
    "first=\"judith\"\n",
    "second=\"memoi\""
   ]
  },
  {
   "cell_type": "code",
   "execution_count": 2,
   "id": "4a662330-804f-42ad-a5b3-933d2db2b3d7",
   "metadata": {},
   "outputs": [
    {
     "data": {
      "text/plain": [
       "'judithmemoi'"
      ]
     },
     "execution_count": 2,
     "metadata": {},
     "output_type": "execute_result"
    }
   ],
   "source": [
    "first+second"
   ]
  },
  {
   "cell_type": "code",
   "execution_count": 3,
   "id": "e039db0b-bb71-42de-98af-dac6bea82dc0",
   "metadata": {},
   "outputs": [
    {
     "data": {
      "text/plain": [
       "'judithjudithjudith'"
      ]
     },
     "execution_count": 3,
     "metadata": {},
     "output_type": "execute_result"
    }
   ],
   "source": [
    "first*3"
   ]
  },
  {
   "cell_type": "code",
   "execution_count": 4,
   "id": "fd0ec880-2c88-4598-9703-63fb57dd6ddc",
   "metadata": {},
   "outputs": [
    {
     "data": {
      "text/plain": [
       "'memoimemoimemoimemoimemoi'"
      ]
     },
     "execution_count": 4,
     "metadata": {},
     "output_type": "execute_result"
    }
   ],
   "source": [
    "second*5"
   ]
  },
  {
   "cell_type": "code",
   "execution_count": 5,
   "id": "51838ce3-b1a6-4f72-84cc-18c55a3e46d4",
   "metadata": {},
   "outputs": [
    {
     "data": {
      "text/plain": [
       "'judithjudithjudithmemoimemoimemoi'"
      ]
     },
     "execution_count": 5,
     "metadata": {},
     "output_type": "execute_result"
    }
   ],
   "source": [
    "first*3+ second*3"
   ]
  },
  {
   "cell_type": "code",
   "execution_count": 6,
   "id": "1e302133-0d06-4b52-8d46-be92ccbd4b72",
   "metadata": {},
   "outputs": [],
   "source": [
    "second= \"otieno\""
   ]
  },
  {
   "cell_type": "code",
   "execution_count": 8,
   "id": "5963f0db-0a5e-451c-b9ef-23ab111e93a9",
   "metadata": {},
   "outputs": [
    {
     "data": {
      "text/plain": [
       "'o'"
      ]
     },
     "execution_count": 8,
     "metadata": {},
     "output_type": "execute_result"
    }
   ],
   "source": [
    "second[0]"
   ]
  },
  {
   "cell_type": "code",
   "execution_count": 9,
   "id": "0999cc87-59be-43a8-93ef-15571fb8e248",
   "metadata": {},
   "outputs": [
    {
     "data": {
      "text/plain": [
       "'o'"
      ]
     },
     "execution_count": 9,
     "metadata": {},
     "output_type": "execute_result"
    }
   ],
   "source": [
    "second[5]"
   ]
  },
  {
   "cell_type": "code",
   "execution_count": 10,
   "id": "a85dd710-ed84-43a6-adba-b55bd4322d8a",
   "metadata": {},
   "outputs": [
    {
     "data": {
      "text/plain": [
       "'i'"
      ]
     },
     "execution_count": 10,
     "metadata": {},
     "output_type": "execute_result"
    }
   ],
   "source": [
    "second[2]"
   ]
  },
  {
   "cell_type": "code",
   "execution_count": 11,
   "id": "2a9306f0-f748-4e97-beb9-b37a0883ea1e",
   "metadata": {},
   "outputs": [
    {
     "data": {
      "text/plain": [
       "'judith otieno'"
      ]
     },
     "execution_count": 11,
     "metadata": {},
     "output_type": "execute_result"
    }
   ],
   "source": [
    "fullname=first+\" \"+second\n",
    "fullname"
   ]
  },
  {
   "cell_type": "code",
   "execution_count": 13,
   "id": "a0ba7279-2997-429f-a24a-d5b90194b765",
   "metadata": {},
   "outputs": [
    {
     "data": {
      "text/plain": [
       "'judith'"
      ]
     },
     "execution_count": 13,
     "metadata": {},
     "output_type": "execute_result"
    }
   ],
   "source": [
    "fullname[0:6]"
   ]
  },
  {
   "cell_type": "code",
   "execution_count": 15,
   "id": "5f5ade9b-8bd7-437e-b043-51e7d2b79809",
   "metadata": {},
   "outputs": [
    {
     "data": {
      "text/plain": [
       "'judith otieno'"
      ]
     },
     "execution_count": 15,
     "metadata": {},
     "output_type": "execute_result"
    }
   ],
   "source": [
    "fullname=first+\" \"+second\n",
    "fullname"
   ]
  },
  {
   "cell_type": "code",
   "execution_count": 16,
   "id": "4d2478e9-1e66-43cd-ac2f-9844f0dfad97",
   "metadata": {},
   "outputs": [
    {
     "name": "stdout",
     "output_type": "stream",
     "text": [
      "otieno\n"
     ]
    }
   ],
   "source": [
    "print(fullname[7:13])"
   ]
  },
  {
   "cell_type": "code",
   "execution_count": 19,
   "id": "df40f0dc-d620-4861-a802-0367d38e8c9e",
   "metadata": {},
   "outputs": [
    {
     "name": "stdin",
     "output_type": "stream",
     "text": [
      "Enter First name  judith\n"
     ]
    }
   ],
   "source": [
    "name= input(\"Enter First name \")"
   ]
  },
  {
   "cell_type": "code",
   "execution_count": 20,
   "id": "e7e64239-54cc-4c45-b3f9-fb100c2337d9",
   "metadata": {},
   "outputs": [
    {
     "name": "stdout",
     "output_type": "stream",
     "text": [
      "judith\n"
     ]
    }
   ],
   "source": [
    "print(name)"
   ]
  },
  {
   "cell_type": "code",
   "execution_count": 22,
   "id": "c04b72e2-aa1f-4391-b643-8cddf8d1c4e2",
   "metadata": {},
   "outputs": [
    {
     "name": "stdout",
     "output_type": "stream",
     "text": [
      "0\n",
      "1\n",
      "2\n",
      "3\n",
      "4\n",
      "5\n",
      "6\n",
      "7\n",
      "8\n",
      "9\n",
      "10\n"
     ]
    }
   ],
   "source": [
    "for i in range (11):\n",
    "    print(i)"
   ]
  },
  {
   "cell_type": "code",
   "execution_count": 23,
   "id": "1a52abcf-e6b1-4993-9246-828d76d35363",
   "metadata": {},
   "outputs": [
    {
     "name": "stdout",
     "output_type": "stream",
     "text": [
      "j\n",
      "u\n",
      "d\n",
      "i\n",
      "t\n",
      "h\n",
      " \n",
      "o\n",
      "t\n",
      "i\n",
      "e\n",
      "n\n",
      "o\n"
     ]
    }
   ],
   "source": [
    "for th in fullname:\n",
    "    print(th)"
   ]
  },
  {
   "cell_type": "code",
   "execution_count": 25,
   "id": "3f2b7d70-29ae-41f5-b5d1-913820341972",
   "metadata": {},
   "outputs": [
    {
     "name": "stdout",
     "output_type": "stream",
     "text": [
      "0\n",
      "3\n",
      "6\n",
      "9\n",
      "12\n"
     ]
    }
   ],
   "source": [
    "for x in range(0,15,3):\n",
    "    print(x)"
   ]
  },
  {
   "cell_type": "code",
   "execution_count": 26,
   "id": "c1fae7cd-2599-4687-be87-bba1f4ae2fb0",
   "metadata": {},
   "outputs": [
    {
     "name": "stdout",
     "output_type": "stream",
     "text": [
      "0\n",
      "5\n",
      "10\n",
      "15\n"
     ]
    }
   ],
   "source": [
    "for t in range(0,20,5):\n",
    "    print(t)"
   ]
  },
  {
   "cell_type": "code",
   "execution_count": 27,
   "id": "1b52c049-8657-40e6-ae4c-0c685dfc9f0f",
   "metadata": {},
   "outputs": [
    {
     "name": "stdout",
     "output_type": "stream",
     "text": [
      "0\n",
      "5\n",
      "10\n",
      "15\n",
      "20\n",
      "25\n"
     ]
    }
   ],
   "source": [
    "for r in range(0,30,5):\n",
    "    print(r)"
   ]
  },
  {
   "cell_type": "code",
   "execution_count": 5,
   "id": "fb3a6689-eff7-4806-85a3-aa1521224935",
   "metadata": {},
   "outputs": [
    {
     "name": "stdout",
     "output_type": "stream",
     "text": [
      "1,2,3,4,5,6,7,8,9,10,"
     ]
    }
   ],
   "source": [
    "#1,2,3,4,5,6,7,8,9,10\n",
    "for x in range(1,11):\n",
    "    print (x, end =\",\")"
   ]
  },
  {
   "cell_type": "code",
   "execution_count": 8,
   "id": "bd8c37ef-fcea-4663-b759-0756360f71ee",
   "metadata": {},
   "outputs": [
    {
     "name": "stdout",
     "output_type": "stream",
     "text": [
      "1,2,3,4,5,6,7,8,9,10,\n",
      " 55\n"
     ]
    }
   ],
   "source": [
    "#1,2,3,4,5,6,7,8,9,10\n",
    "total=0\n",
    "\n",
    "for x in range(1,11):\n",
    "    total+=x\n",
    "    print(x, end= \",\")\n",
    "\n",
    "print('\\n', total)"
   ]
  },
  {
   "cell_type": "code",
   "execution_count": 9,
   "id": "19276705-654a-43a9-b1ea-58d6f19e0d71",
   "metadata": {},
   "outputs": [
    {
     "name": "stdin",
     "output_type": "stream",
     "text": [
      "Enter Age: 45\n",
      "Enter Age: 50\n",
      "Enter Age: 43\n",
      "Enter Age: 65\n"
     ]
    },
    {
     "name": "stdout",
     "output_type": "stream",
     "text": [
      "65 16.25\n"
     ]
    }
   ],
   "source": [
    "x=int(input(\"Enter Age:\"))\n",
    "y=int(input(\"Enter Age:\"))\n",
    "z=int(input(\"Enter Age:\"))\n",
    "xy=int(input(\"Enter Age:\"))\n",
    "\n",
    "total=x=y=z=xy\n",
    "average=total/4\n",
    "\n",
    "print(total, average)\n",
    "            "
   ]
  },
  {
   "cell_type": "code",
   "execution_count": 13,
   "id": "2f573367-8ce4-452d-a48c-d9f85be0354a",
   "metadata": {},
   "outputs": [
    {
     "name": "stdin",
     "output_type": "stream",
     "text": [
      "Enter Age 45\n",
      "Enter Age 40\n",
      "Enter Age 65\n",
      "Enter Age 65\n"
     ]
    },
    {
     "name": "stdout",
     "output_type": "stream",
     "text": [
      "\n",
      " 215 53.75\n"
     ]
    }
   ],
   "source": [
    "total=0\n",
    "for x in range(4):\n",
    "    x=int(input(\"Enter Age\"))\n",
    "    total +=x\n",
    "    \n",
    "print('\\n', total, total/4)"
   ]
  },
  {
   "cell_type": "code",
   "execution_count": 18,
   "id": "23f5d761-b260-4600-a7a0-de90c2162fdf",
   "metadata": {},
   "outputs": [
    {
     "name": "stdin",
     "output_type": "stream",
     "text": [
      "Enter Age 45\n",
      "Enter Age 55\n",
      "Enter Age 65\n",
      "Enter Age 75\n"
     ]
    },
    {
     "name": "stdout",
     "output_type": "stream",
     "text": [
      "60.0\n"
     ]
    }
   ],
   "source": [
    "count = 0\n",
    "total=0\n",
    "while count < 4:\n",
    "    x = int(input(\"Enter Age\"))\n",
    "    total +=x\n",
    "    count += 1\n",
    "\n",
    "print(total/count)"
   ]
  },
  {
   "cell_type": "code",
   "execution_count": null,
   "id": "88a8e319-e98f-4a36-8db7-ab12afe3f3ba",
   "metadata": {},
   "outputs": [
    {
     "name": "stdin",
     "output_type": "stream",
     "text": [
      "Name jiou\n",
      "Name yipu\n",
      "Name jose\n"
     ]
    }
   ],
   "source": [
    "check = True\n",
    "while check:\n",
    "    name= input(\"Name\")\n",
    "    if \"memo\" in name or 'memo' in name:\n",
    "        check = False"
   ]
  },
  {
   "cell_type": "code",
   "execution_count": null,
   "id": "fe5987e9-7bf2-4d00-8753-0fb753e6a57c",
   "metadata": {},
   "outputs": [],
   "source": []
  },
  {
   "cell_type": "code",
   "execution_count": null,
   "id": "4f3ea42b-41f7-45ea-92cc-c5e810ad72c1",
   "metadata": {},
   "outputs": [],
   "source": []
  },
  {
   "cell_type": "code",
   "execution_count": null,
   "id": "83b01ee0-6a02-4602-81e0-e2c99e43832f",
   "metadata": {},
   "outputs": [],
   "source": []
  },
  {
   "cell_type": "code",
   "execution_count": null,
   "id": "471d7d33-8298-46f8-b805-8aca4ee4dbfe",
   "metadata": {},
   "outputs": [],
   "source": []
  }
 ],
 "metadata": {
  "kernelspec": {
   "display_name": "Python 3 (ipykernel)",
   "language": "python",
   "name": "python3"
  },
  "language_info": {
   "codemirror_mode": {
    "name": "ipython",
    "version": 3
   },
   "file_extension": ".py",
   "mimetype": "text/x-python",
   "name": "python",
   "nbconvert_exporter": "python",
   "pygments_lexer": "ipython3",
   "version": "3.12.4"
  }
 },
 "nbformat": 4,
 "nbformat_minor": 5
}
