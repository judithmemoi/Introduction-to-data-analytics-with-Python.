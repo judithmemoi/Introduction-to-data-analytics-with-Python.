{
 "cells": [
  {
   "cell_type": "code",
   "execution_count": 3,
   "id": "a8b78804-585a-460a-80e3-4a692361d2b4",
   "metadata": {},
   "outputs": [],
   "source": [
    "temperatures=[30,55, 35,45,25]"
   ]
  },
  {
   "cell_type": "code",
   "execution_count": 4,
   "id": "bbb27d9e-6659-401f-96e0-98c6bb6eb096",
   "metadata": {},
   "outputs": [],
   "source": [
    "fahrenheit_temperatures=[(temp*9/5)+32 for temp in temperatures]"
   ]
  },
  {
   "cell_type": "code",
   "execution_count": 6,
   "id": "f28dff81-9d62-4a25-95da-7c475af5f757",
   "metadata": {},
   "outputs": [
    {
     "data": {
      "text/plain": [
       "[86.0, 131.0, 95.0, 113.0, 77.0]"
      ]
     },
     "execution_count": 6,
     "metadata": {},
     "output_type": "execute_result"
    }
   ],
   "source": [
    "fahrenheit_temperatures"
   ]
  },
  {
   "cell_type": "code",
   "execution_count": null,
   "id": "a632b56f-c625-4b79-9d3e-ff6869dba52e",
   "metadata": {},
   "outputs": [],
   "source": []
  }
 ],
 "metadata": {
  "kernelspec": {
   "display_name": "Python 3 (ipykernel)",
   "language": "python",
   "name": "python3"
  },
  "language_info": {
   "codemirror_mode": {
    "name": "ipython",
    "version": 3
   },
   "file_extension": ".py",
   "mimetype": "text/x-python",
   "name": "python",
   "nbconvert_exporter": "python",
   "pygments_lexer": "ipython3",
   "version": "3.12.4"
  }
 },
 "nbformat": 4,
 "nbformat_minor": 5
}
