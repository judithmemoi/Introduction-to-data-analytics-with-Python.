{
 "cells": [
  {
   "cell_type": "code",
   "execution_count": 1,
   "id": "0d8fa7d2-755c-413b-8926-4db9d04eaf35",
   "metadata": {},
   "outputs": [],
   "source": [
    "def family():\n",
    "    print(\"family members\")"
   ]
  },
  {
   "cell_type": "code",
   "execution_count": 2,
   "id": "416023ad-a1e9-47c3-9cb5-d3539e3ab3f7",
   "metadata": {},
   "outputs": [
    {
     "name": "stdout",
     "output_type": "stream",
     "text": [
      "family members\n"
     ]
    }
   ],
   "source": [
    "family()"
   ]
  },
  {
   "cell_type": "code",
   "execution_count": 14,
   "id": "9ccdc543-7bfb-44f7-89ee-c5519e2ee991",
   "metadata": {},
   "outputs": [],
   "source": [
    "def add(a,b):\n",
    "    result =a+b\n",
    "    print(result)"
   ]
  },
  {
   "cell_type": "code",
   "execution_count": 15,
   "id": "a7a0cbf3-e043-42c9-8e81-dd3ac8d64d97",
   "metadata": {},
   "outputs": [
    {
     "name": "stdout",
     "output_type": "stream",
     "text": [
      "12\n"
     ]
    }
   ],
   "source": [
    "add(6,6)"
   ]
  },
  {
   "cell_type": "code",
   "execution_count": 19,
   "id": "177fcadd-4d43-4132-a342-4b1673406e7a",
   "metadata": {},
   "outputs": [],
   "source": [
    "def add(c,d):\n",
    "   result =c+d\n",
    "   print(result)\n"
   ]
  },
  {
   "cell_type": "code",
   "execution_count": 20,
   "id": "2693894d-f227-403a-a9d0-49280799de4c",
   "metadata": {},
   "outputs": [
    {
     "name": "stdout",
     "output_type": "stream",
     "text": [
      "20\n"
     ]
    }
   ],
   "source": [
    "add(10,10)"
   ]
  },
  {
   "cell_type": "code",
   "execution_count": 22,
   "id": "d896ac53-5633-4562-a45f-7bff86a96137",
   "metadata": {},
   "outputs": [
    {
     "data": {
      "text/plain": [
       "1000"
      ]
     },
     "execution_count": 22,
     "metadata": {},
     "output_type": "execute_result"
    }
   ],
   "source": [
    "max(4,5,1000)"
   ]
  },
  {
   "cell_type": "code",
   "execution_count": 23,
   "id": "f66c8222-fe6c-4783-b790-1df5ddf1719a",
   "metadata": {},
   "outputs": [
    {
     "data": {
      "text/plain": [
       "20"
      ]
     },
     "execution_count": 23,
     "metadata": {},
     "output_type": "execute_result"
    }
   ],
   "source": [
    "min(45,30,20)"
   ]
  },
  {
   "cell_type": "code",
   "execution_count": 24,
   "id": "79a4b53d-7ea1-46e7-a162-c9c2be46fb20",
   "metadata": {},
   "outputs": [
    {
     "name": "stdout",
     "output_type": "stream",
     "text": [
      "1\n"
     ]
    }
   ],
   "source": [
    "my_list = [1, 2, 3, 4, 5]\n",
    "print(my_list[0]) #output: 1"
   ]
  },
  {
   "cell_type": "code",
   "execution_count": 25,
   "id": "6107e43d-f846-493a-a4c1-a09431f51a91",
   "metadata": {},
   "outputs": [
    {
     "data": {
      "text/plain": [
       "'wiu'"
      ]
     },
     "execution_count": 25,
     "metadata": {},
     "output_type": "execute_result"
    }
   ],
   "source": [
    "grocery=[\"tomato\",\"wiu\",\"onion\"]\n",
    "grocery[1]"
   ]
  },
  {
   "cell_type": "code",
   "execution_count": 27,
   "id": "f3e46488-f9d3-494a-a566-07ee6b229abd",
   "metadata": {},
   "outputs": [
    {
     "name": "stdout",
     "output_type": "stream",
     "text": [
      "tomato\n",
      "wiu\n",
      "onion\n",
      "['tomato', 'wiu', 'onion']\n"
     ]
    }
   ],
   "source": [
    "ind = 0\n",
    "for item in grocery:\n",
    "     print(item)\n",
    "\n",
    "print(grocery)\n",
    "     "
   ]
  },
  {
   "cell_type": "code",
   "execution_count": null,
   "id": "d6f95fa3-a041-463c-9292-a3ac8153dadb",
   "metadata": {},
   "outputs": [],
   "source": []
  },
  {
   "cell_type": "code",
   "execution_count": 28,
   "id": "b8fe37d3-62aa-4740-a367-ecfc6438e1a5",
   "metadata": {},
   "outputs": [
    {
     "name": "stdout",
     "output_type": "stream",
     "text": [
      "['tomato', 'kitungu', 'onion']\n"
     ]
    }
   ],
   "source": [
    "ind = 0\n",
    "grocery=[\"tomato\",\"wiu\",\"onion\"]\n",
    "for item in grocery:\n",
    "    if item == \"onion\":\n",
    "        grocery[ind]=\"kitungu\"\n",
    "    ind= ind =1\n",
    "print(grocery)\n"
   ]
  },
  {
   "cell_type": "code",
   "execution_count": 29,
   "id": "6ff1d164-d260-4af0-a783-0b94b881930a",
   "metadata": {},
   "outputs": [
    {
     "data": {
      "text/plain": [
       "['tomato', 'kitungu', 'onion']"
      ]
     },
     "execution_count": 29,
     "metadata": {},
     "output_type": "execute_result"
    }
   ],
   "source": [
    "grocery.copy()"
   ]
  },
  {
   "cell_type": "code",
   "execution_count": 30,
   "id": "7fbd48bf-53d9-40fc-b91c-d74cb97c2477",
   "metadata": {},
   "outputs": [],
   "source": [
    "grocery.sort()"
   ]
  },
  {
   "cell_type": "code",
   "execution_count": 33,
   "id": "b3e6d0d4-e986-4334-94a5-ec55396c8853",
   "metadata": {},
   "outputs": [],
   "source": [
    "grocery.append(\"onion\")"
   ]
  },
  {
   "cell_type": "code",
   "execution_count": null,
   "id": "2a92e0c8-7cbe-468f-aca2-07e34e4d02c6",
   "metadata": {},
   "outputs": [],
   "source": []
  }
 ],
 "metadata": {
  "kernelspec": {
   "display_name": "Python 3 (ipykernel)",
   "language": "python",
   "name": "python3"
  },
  "language_info": {
   "codemirror_mode": {
    "name": "ipython",
    "version": 3
   },
   "file_extension": ".py",
   "mimetype": "text/x-python",
   "name": "python",
   "nbconvert_exporter": "python",
   "pygments_lexer": "ipython3",
   "version": "3.12.4"
  }
 },
 "nbformat": 4,
 "nbformat_minor": 5
}
